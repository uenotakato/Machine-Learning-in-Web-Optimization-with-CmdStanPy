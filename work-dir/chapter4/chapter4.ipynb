{
 "cells": [
  {
   "cell_type": "markdown",
   "metadata": {},
   "source": [
    "### 4章：メタヒューリテクス: 統計モデルを使わない最適法"
   ]
  },
  {
   "cell_type": "markdown",
   "metadata": {},
   "source": [
    "必要なモジュールの読み込み"
   ]
  },
  {
   "cell_type": "code",
   "execution_count": 2,
   "metadata": {},
   "outputs": [
    {
     "name": "stderr",
     "output_type": "stream",
     "text": [
      "/var/folders/nr/8kygzlbx7djc1yh15qnzhhgr0000gn/T/ipykernel_37047/1953248491.py:5: MatplotlibDeprecationWarning: The seaborn styles shipped by Matplotlib are deprecated since 3.6, as they no longer correspond to the styles shipped by seaborn. However, they will remain available as 'seaborn-v0_8-<style>'. Alternatively, directly use the seaborn API instead.\n",
      "  plt.style.use('seaborn-whitegrid')\n"
     ]
    }
   ],
   "source": [
    "import numpy as np\n",
    "from matplotlib import pyplot as plt\n",
    "\n",
    "plt.style.use('grayscale')\n",
    "plt.style.use('seaborn-whitegrid')"
   ]
  },
  {
   "cell_type": "markdown",
   "metadata": {},
   "source": [
    "#### 山登り法"
   ]
  },
  {
   "cell_type": "markdown",
   "metadata": {},
   "source": [
    "評価関数の形状"
   ]
  },
  {
   "cell_type": "code",
   "execution_count": 3,
   "metadata": {},
   "outputs": [
    {
     "data": {
      "image/png": "[encoded data removed]",
      "text/plain": [
       "<Figure size 640x480 with 1 Axes>"
      ]
     },
     "metadata": {},
     "output_type": "display_data"
    }
   ],
   "source": [
    "from mpl_toolkits.mplot3d import Axes3D\n",
    "\n",
    "fig = plt.figure()\n",
    "ax = Axes3D(fig)\n",
    "\n",
    "size = 5\n",
    "_x1, _x2 = np.meshgrid(np.arange(size), np.arange(size))\n",
    "x1, x2 = _x1.ravel(), _x2.ravel()\n",
    "\n",
    "f = lambda x1, x2: 0.5 * x1 + x2 - 0.3 * x1 * x2\n",
    "ax.bar3d(x1, x2, 0, 1, 1, f(x1, x2), color='gray', edgecolor='white', shade=True)\n",
    "ax.set_xlabel('$x_1$')\n",
    "ax.set_ylabel('$x_2$')\n",
    "ax.set_zlabel('$f(x)$')\n",
    "plt.xticks(np.arange(0.5, size, 1), range(size))\n",
    "plt.yticks(np.arange(0.5, size, 1), range(size))\n",
    "plt.show()"
   ]
  },
  {
   "cell_type": "code",
   "execution_count": null,
   "metadata": {},
   "outputs": [],
   "source": [
    "from mpl_toolkits.mplot3d import Axes3D\n",
    "\n",
    "fig = plt.figure()\n",
    "ax = Axes3D(fig)\n",
    "\n",
    "size = 5\n",
    "_x1, _x2 = np.meshgrid(np.arange(size), np.arange(size))\n",
    "x1, x2 = _x1.ravel(), _x2.ravel()\n",
    "\n",
    "f = lambda x1, x2: 0.5 * x1 + x2 - 0.3 * x1 * x2\n",
    "ax.bar3d(x1, x2, 0, 1, 1, f(x1, x2), color='gray', edgecolor='white', shade=True)\n",
    "ax.set_xlabel('$x_1$')\n",
    "ax.set_ylabel('$x_2$')\n",
    "ax.set_zlabel('$f(x)$')\n",
    "plt.xticks(np.arange(0.5, size, 1), range(size))\n",
    "plt.yticks(np.arange(0.5, size, 1), range(size))\n",
    "plt.show()"
   ]
  },
  {
   "cell_type": "code",
   "execution_count": null,
   "metadata": {},
   "outputs": [],
   "source": []
  },
  {
   "cell_type": "code",
   "execution_count": null,
   "metadata": {},
   "outputs": [],
   "source": []
  },
  {
   "cell_type": "markdown",
   "metadata": {},
   "source": []
  }
 ],
 "metadata": {
  "kernelspec": {
   "display_name": "Python 3",
   "language": "python",
   "name": "python3"
  },
  "language_info": {
   "codemirror_mode": {
    "name": "ipython",
    "version": 3
   },
   "file_extension": ".py",
   "mimetype": "text/x-python",
   "name": "python",
   "nbconvert_exporter": "python",
   "pygments_lexer": "ipython3",
   "version": "3.11.0"
  },
  "orig_nbformat": 4
 },
 "nbformat": 4,
 "nbformat_minor": 2
}
